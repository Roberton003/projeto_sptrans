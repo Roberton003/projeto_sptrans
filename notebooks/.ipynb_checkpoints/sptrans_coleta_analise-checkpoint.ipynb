{
 "cells": [
  {
   "cell_type": "markdown",
   "id": "9f869e3d",
   "metadata": {},
   "source": [
    "# Projeto SPTrans: Coleta e Análise de Dados\n",
    "\n",
    "Este notebook demonstra como importar bibliotecas, definir funções e executar tarefas básicas para iniciar a análise de dados da API Olho Vivo da SPTrans."
   ]
  },
  {
   "cell_type": "markdown",
   "id": "11ef2b78",
   "metadata": {},
   "source": [
    "# Como rodar este notebook em um ambiente Python\n",
    "\n",
    "1. Ative seu ambiente virtual (recomendado):\n",
    "   - Linux/macOS: `source venv/bin/activate`\n",
    "   - Windows: `venv\\Scripts\\activate`\n",
    "2. Instale as dependências necessárias:\n",
    "   - `pip install requests pandas jupyter`\n",
    "3. Execute o Jupyter Notebook:\n",
    "   - `jupyter notebook`\n",
    "\n",
    "Se preferir, rode a célula abaixo para instalar as dependências diretamente pelo notebook."
   ]
  },
  {
   "cell_type": "code",
   "execution_count": null,
   "id": "8bf4a3e4",
   "metadata": {},
   "outputs": [],
   "source": [
    "# Instale as dependências necessárias diretamente pelo notebook\n",
    "!pip install requests pandas jupyter"
   ]
  },
  {
   "cell_type": "code",
   "execution_count": null,
   "id": "b56d27d2",
   "metadata": {},
   "outputs": [],
   "source": [
    "# Importar bibliotecas necessárias\n",
    "import requests\n",
    "import json\n",
    "import pandas as pd"
   ]
  },
  {
   "cell_type": "code",
   "execution_count": null,
   "id": "35b880e2",
   "metadata": {},
   "outputs": [],
   "source": [
    "def quero():\n",
    "    return 'Notebook SPTrans pronto para coleta e análise de dados!'\n"
   ]
  },
  {
   "cell_type": "code",
   "execution_count": null,
   "id": "58da45b4",
   "metadata": {},
   "outputs": [],
   "source": [
    "# Executar a função e exibir o resultado\n",
    "print(quero())"
   ]
  }
 ],
 "metadata": {
  "language_info": {
   "name": "python"
  }
 },
 "nbformat": 4,
 "nbformat_minor": 5
}
