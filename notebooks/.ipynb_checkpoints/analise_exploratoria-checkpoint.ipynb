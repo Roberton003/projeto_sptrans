{
 "cells": [
  {
   "cell_type": "markdown",
   "metadata": {},
   "source": [
    "# Análise Exploratória dos Dados da SPTrans\n",
    "\n",
    "**Objetivo:** Este notebook é o nosso ambiente de análise para explorar os dados coletados pela nossa pipeline e extrair os primeiros insights."
   ]
  },
  {
   "cell_type": "markdown",
   "metadata": {},
   "source": [
    "### 1. Importação das Bibliotecas e Conexão com o Banco de Dados"
   ]
  },
  {
   "cell_type": "code",
   "execution_count": null,
   "metadata": {},
   "outputs": [
    {
     "ename": "",
     "evalue": "",
     "output_type": "error",
     "traceback": [
      "\u001b[1;31mA execução de células com 'venv (Python 3.13.2)' requer o pacote ipykernel.\n",
      "\u001b[1;31mInstale 'ipykernel' no ambiente Python. \n",
      "\u001b[1;31mComando: '\"/media/rob3rto003/Arquivos/Data Science/Engenheiro de Dados_Azure/projeto_sptrans/venv/bin/python\" -m pip install ipykernel -U --force-reinstall'"
     ]
    }
   ],
   "source": [
    "import pandas as pd\n",
    "import sqlite3\n",
    "import os\n",
    "\n",
    "# Define o caminho para o banco de dados\n",
    "DB_PATH = os.path.join('..', 'data', 'sptrans_data.db')\n",
    "\n",
    "# Cria a conexão com o banco\n",
    "conn = sqlite3.connect(DB_PATH)\n",
    "\n",
    "print(f\"Conectado ao banco de dados em: {DB_PATH}\")"
   ]
  },
  {
   "cell_type": "markdown",
   "metadata": {},
   "source": [
    "### 2. Carregar os Dados da Análise\n",
    "\n",
    "Vamos carregar a tabela `resultados_analise`, que contém os dados enriquecidos que nosso script `analise_onibus.py` gerou. Filtramos para pegar apenas os registros que possuem dados de previsão."
   ]
  },
  {
   "cell_type": "code",
   "execution_count": null,
   "metadata": {},
   "outputs": [],
   "source": [
    "query = \"SELECT * FROM resultados_analise WHERE horario_previsto_chegada IS NOT NULL;\"\n",
    "\n",
    "df = pd.read_sql_query(query, conn)\n",
    "\n",
    "# Exibe as 5 primeiras linhas para inspecionar os dados\n",
    "df.head()"
   ]
  },
  {
   "cell_type": "markdown",
   "metadata": {},
   "source": [
    "### 3. O Primeiro Insight: Cálculo do Atraso\n",
    "\n",
    "Esta é a etapa mais importante. Vamos calcular a diferença entre a previsão de chegada e o horário real da posição do ônibus para encontrar nosso indicador de atraso.\n",
    "\n",
    "**Nota:** Um valor positivo significa que o ônibus está ADIANTADO (passou antes da previsão). Um valor negativo significa que está ATRASADO."
   ]
  },
  {
   "cell_type": "code",
   "execution_count": null,
   "metadata": {},
   "outputs": [],
   "source": [
    "# Converte as colunas de texto para o formato de data e hora (datetime)\n",
    "# O formato da API para horario_posicao é ISO 8601 (ex: '2025-08-15T22:07:05Z')\n",
    "df['horario_posicao'] = pd.to_datetime(df['horario_posicao'])\n",
    "\n",
    "# O formato para horario_previsto_chegada é apenas HH:MM. Precisamos combiná-lo com a data da coleta.\n",
    "# Primeiro, extraímos a data da coluna horario_posicao\n",
    "df['data_coleta'] = df['horario_posicao'].dt.date\n",
    "# Agora, combinamos a data com o horário previsto\n",
    "df['horario_previsto_chegada_dt'] = pd.to_datetime(df['data_coleta'].astype(str) + ' ' + df['horario_previsto_chegada'])\n",
    "\n",
    "# Calcula a diferença em minutos\n",
    "df['atraso_minutos'] = (df['horario_previsto_chegada_dt'] - df['horario_posicao']).dt.total_seconds() / 60\n",
    "\n",
    "# Exibe o resultado com a nova coluna de atraso\n",
    "df[['id_onibus', 'letreiro_linha', 'horario_previsto_chegada_dt', 'horario_posicao', 'atraso_minutos']].head()"
   ]
  },
  {
   "cell_type": "markdown",
   "metadata": {},
   "source": [
    "### Próximos Passos\n",
    "\n",
    "Agora que temos o atraso calculado, podemos começar a fazer perguntas mais interessantes:\n",
    "\n",
    "- Qual a média de atraso por linha?\n",
    "- Qual linha tem o maior atraso?\n",
    "- O atraso varia com a hora do dia?"
   ]
  }
 ],
 "metadata": {
  "kernelspec": {
   "display_name": "venv",
   "language": "python",
   "name": "python3"
  },
  "language_info": {
   "name": "python",
   "version": "3.13.2"
  }
 },
 "nbformat": 4,
 "nbformat_minor": 4
}
